{
 "cells": [
  {
   "cell_type": "code",
   "execution_count": 1,
   "metadata": {},
   "outputs": [],
   "source": [
    "from sqlalchemy import create_engine\n",
    "from sqlalchemy.sql import text\n",
    "\n",
    "#quero usar o banco de dados nesse arquivo, usando o formato sqlite\n",
    "engine = create_engine('sqlite:///biblioteca.db')"
   ]
  },
  {
   "cell_type": "markdown",
   "metadata": {},
   "source": [
    "Usando Fetchone"
   ]
  },
  {
   "cell_type": "code",
   "execution_count": 2,
   "metadata": {},
   "outputs": [],
   "source": [
    "def todos_alunos():\n",
    "    with engine.connect() as con:    \n",
    "        sql_consulta = text (\"SELECT * FROM aluno\")\n",
    "        rs = con.execute(sql_consulta)\n",
    "        resultados = []\n",
    "        while True:\n",
    "            result = rs.fetchone()\n",
    "            if result == None:\n",
    "                break\n",
    "            d_result = dict(result)\n",
    "            resultados.append(d_result)\n",
    "        return resultados"
   ]
  },
  {
   "cell_type": "code",
   "execution_count": null,
   "metadata": {},
   "outputs": [],
   "source": [
    "todos_alunos()"
   ]
  },
  {
   "cell_type": "markdown",
   "metadata": {},
   "source": [
    "Usando Fetchall"
   ]
  },
  {
   "cell_type": "code",
   "execution_count": 4,
   "metadata": {},
   "outputs": [],
   "source": [
    "def todos_alunos_versao2():\n",
    "    with engine.connect() as con:    \n",
    "        sql_consulta = text (\"SELECT * FROM aluno\")\n",
    "        rs = con.execute(sql_consulta)\n",
    "        resultados_sujo = rs.fetchall()\n",
    "        resultados_limpo = []\n",
    "        for resultado in resultados_sujo:\n",
    "            resultados_limpo.append(dict(resultado))\n",
    "        return resultados_limpo"
   ]
  },
  {
   "cell_type": "code",
   "execution_count": 5,
   "metadata": {},
   "outputs": [
    {
     "data": {
      "text/plain": [
       "[{'id': 1, 'nome': 'Lucas Mendes', 'email': 'lucas.mendes@exemplo.com'},\n",
       " {'id': 2, 'nome': 'Helena O. S.', 'email': 'helena@exemplo.com'},\n",
       " {'id': 3, 'nome': 'Mirtes', 'email': 'teescrevoumemail@exemplo.com'},\n",
       " {'id': 4, 'nome': 'Anderson Silva', 'email': 'Anderson.chga@gmail.com'}]"
      ]
     },
     "execution_count": 5,
     "metadata": {},
     "output_type": "execute_result"
    }
   ],
   "source": [
    "todos_alunos_versao2()"
   ]
  },
  {
   "cell_type": "markdown",
   "metadata": {},
   "source": [
    "Usando Fetchmany"
   ]
  },
  {
   "cell_type": "code",
   "execution_count": 6,
   "metadata": {},
   "outputs": [],
   "source": [
    "def todos_alunos_versao3():\n",
    "    with engine.connect() as con:    \n",
    "        sql_consulta = text (\"SELECT * FROM aluno\")\n",
    "        rs = con.execute(sql_consulta)\n",
    "        resultados_limpo = []\n",
    "        while True:\n",
    "            resultados_sujo = rs.fetchmany(20)\n",
    "            if resultados_sujo == []:\n",
    "                break\n",
    "            for resultado in resultados_sujo:\n",
    "                resultados_limpo.append(dict(resultado))\n",
    "        return resultados_limpo"
   ]
  },
  {
   "cell_type": "code",
   "execution_count": 7,
   "metadata": {},
   "outputs": [
    {
     "data": {
      "text/plain": [
       "[{'id': 1, 'nome': 'Lucas Mendes', 'email': 'lucas.mendes@exemplo.com'},\n",
       " {'id': 2, 'nome': 'Helena O. S.', 'email': 'helena@exemplo.com'},\n",
       " {'id': 3, 'nome': 'Mirtes', 'email': 'teescrevoumemail@exemplo.com'},\n",
       " {'id': 4, 'nome': 'Anderson Silva', 'email': 'Anderson.chga@gmail.com'}]"
      ]
     },
     "execution_count": 7,
     "metadata": {},
     "output_type": "execute_result"
    }
   ],
   "source": [
    "todos_alunos_versao3()"
   ]
  },
  {
   "cell_type": "markdown",
   "metadata": {},
   "source": [
    "# fetchone, fetchmany(20), fetchall\n",
    "  # pegam, respectivamente, uma linha do resultado\n",
    "  #                         vinte linhas do resultado\n",
    "  #                         todas as linhas do resultado\n",
    "  # fetchone pode ser ineficiente por fazer muitos acessos ao disco rigido\n",
    "  #           (pois o disco rígido é muito mais lento que a RAM, onde ficam as variáveis normais)\n",
    "  # fetchall pode ser ineficiente por carregar dados demais para a RAM,\n",
    "  #            impedindo o servidor de processar outras demandas"
   ]
  }
 ],
 "metadata": {
  "kernelspec": {
   "display_name": "Python 3",
   "language": "python",
   "name": "python3"
  },
  "language_info": {
   "codemirror_mode": {
    "name": "ipython",
    "version": 3
   },
   "file_extension": ".py",
   "mimetype": "text/x-python",
   "name": "python",
   "nbconvert_exporter": "python",
   "pygments_lexer": "ipython3",
   "version": "3.11.5"
  }
 },
 "nbformat": 4,
 "nbformat_minor": 2
}
