{
 "cells": [
  {
   "cell_type": "code",
   "execution_count": 9,
   "metadata": {},
   "outputs": [
    {
     "data": {
      "text/plain": [
       "{'id': 4, 'nome': 'Anderson Silva', 'email': 'Anderson.chga@gmail.com'}"
      ]
     },
     "execution_count": 9,
     "metadata": {},
     "output_type": "execute_result"
    }
   ],
   "source": [
    "# 1) Crie uma função consulta_aluno que recebe a id de um aluno e devolve\n",
    "# um dicionário com os dados desse aluno\n",
    "\n",
    "#idéia da query no sql\n",
    "\"SELECT * FROM aluno WHERE id = 2\"\n",
    "\n",
    "def consulta_aluno(id_aluno):\n",
    "    with engine.connect() as con:   #conectar ao banco de dados \n",
    "        sql_consulta = text (\"SELECT * FROM aluno WHERE id = :id_do_aluno\")\n",
    "        # id          : nome da coluna da tabela\n",
    "        # id_aluno    : nome da variavel python que a funcao recebeu\n",
    "        # id_do_aluno : nome do \"buraco\" definido na query sql_consulta\n",
    "        #               nome passado como argumento do con.execute\n",
    "        rs = con.execute(sql_consulta, id_do_aluno = id_aluno)\n",
    "        #executamos a query definida em sql_consulta, preenchendo o \"buraco\" :id_do_aluno\n",
    "        result = rs.fetchone()\n",
    "        # fetchone: pega uma linha do resultado\n",
    "        # se tiver mais linhas, podemos pegar a próxima com outro fetchone\n",
    "        # se não tiver mais linhas, receberemos um None\n",
    "        if result == None: #se a query retornou 0 linhas, o primeiro fetchone já resulta None\n",
    "            raise AlunoNaoExisteException\n",
    "        # As linhas que o sqlalchemy devolve são parecidas com dicionários,\n",
    "        # mas não é exatamente a mesma coisa. Por isso, fazemos uma conversão\n",
    "        return dict(result)\n",
    "consulta_aluno(4)"
   ]
  },
  {
   "cell_type": "code",
   "execution_count": null,
   "metadata": {},
   "outputs": [],
   "source": [
    "#1b) Crie uma função todos_livros que retorna um lista com um dicionario\n",
    "# para cada livro\n",
    "\n",
    "from sqlalchemy import create_engine\n",
    "from sqlalchemy.sql import text\n",
    "\n",
    "#quero usar o banco de dados nesse arquivo, usando o formato sqlite\n",
    "engine = create_engine('sqlite:///biblioteca.db')\n",
    "\n",
    "def todos_livros():\n",
    "    with engine.connect() as con:\n",
    "        sql_consulta = text(\"SELECT * FROM Livro\")\n",
    "        rs = con.execute(sql_consulta)\n",
    "        resultados = []\n",
    "        while True: #rode para sempre\n",
    "            result = rs.fetchone()\n",
    "            if result is None: \n",
    "                break\n",
    "            d_result = dict(result)\n",
    "            resultados.append(d_result)\n",
    "        return resultados\n",
    "todos_livros()"
   ]
  },
  {
   "cell_type": "code",
   "execution_count": null,
   "metadata": {},
   "outputs": [],
   "source": [
    "#1c) Crie uma função todos_alunos que retorna um lista com um dicionario\n",
    "# para cada aluno\n",
    "\n",
    "from sqlalchemy import create_engine\n",
    "from sqlalchemy.sql import text\n",
    "\n",
    "#quero usar o banco de dados nesse arquivo, usando o formato sqlite\n",
    "engine = create_engine('sqlite:///biblioteca.db')\n",
    "\n",
    "def todos_alunos():\n",
    "    with engine.connect() as con:\n",
    "        sql_consulta = text(\"SELECT * FROM Aluno\")\n",
    "        rs = con.execute(sql_consulta)\n",
    "        resultados = []\n",
    "        while True: #rode para sempre\n",
    "            result = rs.fetchone()\n",
    "            if result is None: \n",
    "                break\n",
    "            d_result = dict(result)\n",
    "            resultados.append(d_result)\n",
    "        return resultados\n",
    "todos_alunos()"
   ]
  },
  {
   "cell_type": "code",
   "execution_count": 3,
   "metadata": {},
   "outputs": [],
   "source": [
    "# 2) Crie uma função cria livro que recebe os dados de um livro (id e descrição)\n",
    "# e o adiciona no banco de dados\n",
    "from sqlalchemy import create_engine\n",
    "from sqlalchemy.sql import text\n",
    "\n",
    "engine = create_engine('sqlite:///biblioteca.db')\n",
    "\n",
    "def cria_livro(id_livro, descricao):\n",
    "    with engine.connect() as con:\n",
    "        sql_create = text (\"INSERT into livro (id_livro, descricao) values (:id_livro, :descricao)\")\n",
    "        con.execute(sql_create, id_livro=id_livro, descricao=descricao)\n",
    "cria_livro(6, \"Manifesto comunista\")\n"
   ]
  },
  {
   "cell_type": "code",
   "execution_count": 12,
   "metadata": {},
   "outputs": [],
   "source": [
    "# 3) Crie uma função empresta_livro, que recebe a id de um livro, a id de um aluno\n",
    "# e marca o livro como emprestado pelo aluno\n",
    "def empresta_livro(id_livro, id_aluno):\n",
    "    with engine.connect() as con:\n",
    "        sql_update = text (\"UPDATE Livro SET id_aluno=:id_aluno where id_livro=:id_livro\")\n",
    "        con.execute(sql_update, id_livro=id_livro, id_aluno=id_aluno)\n",
    "empresta_livro(id_livro=4,id_aluno=2)\n",
    "\n",
    "    \n"
   ]
  },
  {
   "cell_type": "code",
   "execution_count": 14,
   "metadata": {},
   "outputs": [],
   "source": [
    "# 4) Crie uma função devolve_livro, que recebe a id de um livro, e marca o livro\n",
    "# como disponível\n",
    "def devolve_livro(id_livro):\n",
    "    with engine.connect() as con:\n",
    "        sql_update = text (\"UPDATE Livro SET id_aluno=NULL where id_livro=:id_livro\")\n",
    "        con.execute(sql_update, id_livro=id_livro)\n",
    "devolve_livro(id_livro=4)\n"
   ]
  },
  {
   "cell_type": "code",
   "execution_count": null,
   "metadata": {},
   "outputs": [],
   "source": [
    "# 5) Crie uma função livros_parados que devolve a lista de todos os livros que não estão emprestados\n",
    "# por ninguém (uma lista de dicionários, um para cada livro)\n",
    "def livros_parados():\n",
    "    with engine.connect() as con:\n",
    "        sql_consulta = text(\"SELECT * from livro where id_aluno ISNULL\")\n",
    "        rs = con.execute(sql_consulta)\n",
    "        resultados = []\n",
    "        while True: #rode para sempre\n",
    "            result = rs.fetchone()\n",
    "            if result is None: \n",
    "                break\n",
    "            d_result = dict(result)\n",
    "            resultados.append(d_result)\n",
    "        return resultados\n",
    "livros_parados()"
   ]
  },
  {
   "cell_type": "code",
   "execution_count": null,
   "metadata": {},
   "outputs": [],
   "source": [
    "# 6) Crie uma função livros_do_aluno, recebe o nome do aluno e devolve a lista de todos\n",
    "# os livros que estão com o aluno no momento\n",
    "\n",
    "\n",
    "\n",
    "def livros_do_aluno(nome):\n",
    "    with engine.connect() as con:\n",
    "        sql_consulta = text (\"SELECT id_livro, id_aluno, descricao from livro JOIN aluno ON livro.id_aluno = aluno.id WHERE nome = :nome\")\n",
    "        rs = con.execute(sql_consulta, nome=nome)\n",
    "        resultados = []\n",
    "        while True: #rode para sempre\n",
    "            result = rs.fetchone()\n",
    "            if result is None: \n",
    "                break\n",
    "            d_result = dict(result)\n",
    "            resultados.append(d_result)\n",
    "        return resultados\n",
    "livros_do_aluno(\"Lucas Mendes\")\n",
    "    "
   ]
  },
  {
   "cell_type": "code",
   "execution_count": 6,
   "metadata": {},
   "outputs": [],
   "source": [
    "#Extra incluindo alunos\n",
    "\n",
    "\n",
    "from sqlalchemy import create_engine\n",
    "from sqlalchemy.sql import text\n",
    "\n",
    "engine = create_engine('sqlite:///biblioteca.db')\n",
    "\n",
    "def add_aluno(id, nome, email):\n",
    "    with engine.connect() as con:\n",
    "        sql_create = text (\"INSERT into Aluno (id, nome, email) values (:id, :nome, :email)\")\n",
    "        con.execute(sql_create, id=id, nome=nome, email=email)\n",
    "add_aluno(4, 'Anderson Silva', 'Anderson.chga@gmail.com')"
   ]
  }
 ],
 "metadata": {
  "kernelspec": {
   "display_name": "Python 3",
   "language": "python",
   "name": "python3"
  },
  "language_info": {
   "codemirror_mode": {
    "name": "ipython",
    "version": 3
   },
   "file_extension": ".py",
   "mimetype": "text/x-python",
   "name": "python",
   "nbconvert_exporter": "python",
   "pygments_lexer": "ipython3",
   "version": "3.11.5"
  }
 },
 "nbformat": 4,
 "nbformat_minor": 2
}
