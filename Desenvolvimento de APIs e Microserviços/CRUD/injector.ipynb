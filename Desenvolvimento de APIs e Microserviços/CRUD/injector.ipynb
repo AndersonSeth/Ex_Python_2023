{
 "cells": [
  {
   "cell_type": "code",
   "execution_count": 1,
   "metadata": {},
   "outputs": [],
   "source": [
    "from sqlalchemy import create_engine\n",
    "from sqlalchemy.sql import text\n",
    "\n",
    "#quero usar o banco de dados nesse arquivo, usando o formato sqlite\n",
    "engine = create_engine('sqlite:///autentica.db')"
   ]
  },
  {
   "cell_type": "code",
   "execution_count": 3,
   "metadata": {},
   "outputs": [],
   "source": [
    "def validar_admin(senha):\n",
    "    with engine.connect() as con:    \n",
    "        sql_admin = text (f\"SELECT * FROM users WHERE login='admin' and senha='{senha}'\")\n",
    "        print(sql_admin)\n",
    "        rs = con.execute(sql_admin)\n",
    "        result = rs.fetchone()\n",
    "        if result == None:\n",
    "            return 'nao autorizado'\n",
    "        return 'autorizado'"
   ]
  },
  {
   "cell_type": "code",
   "execution_count": 9,
   "metadata": {},
   "outputs": [
    {
     "name": "stdout",
     "output_type": "stream",
     "text": [
      "SELECT * FROM users WHERE login='admin' and senha='nao sei' OR 'a' = 'a'\n"
     ]
    },
    {
     "data": {
      "text/plain": [
       "'autorizado'"
      ]
     },
     "execution_count": 9,
     "metadata": {},
     "output_type": "execute_result"
    }
   ],
   "source": [
    "validar_admin(\"nao sei' OR 'a' = 'a\")"
   ]
  },
  {
   "cell_type": "code",
   "execution_count": 10,
   "metadata": {},
   "outputs": [],
   "source": [
    "def validar_seguro(senha):\n",
    "    with engine.connect() as con:    \n",
    "        sql_admin = text (\"SELECT * FROM users WHERE login='admin' and senha= :senha\")\n",
    "        print(sql_admin)\n",
    "        rs = con.execute(sql_admin , senha=senha)\n",
    "        result = rs.fetchone()\n",
    "        if result == None:\n",
    "            return 'nao autorizado'\n",
    "        return 'autorizado'"
   ]
  },
  {
   "cell_type": "code",
   "execution_count": 12,
   "metadata": {},
   "outputs": [
    {
     "name": "stdout",
     "output_type": "stream",
     "text": [
      "SELECT * FROM users WHERE login='admin' and senha= :senha\n"
     ]
    },
    {
     "data": {
      "text/plain": [
       "'autorizado'"
      ]
     },
     "execution_count": 12,
     "metadata": {},
     "output_type": "execute_result"
    }
   ],
   "source": [
    "validar_seguro('eLl96BFLVsoPrcOJGa0PhvwFnxt7ThKn')"
   ]
  }
 ],
 "metadata": {
  "kernelspec": {
   "display_name": "Python 3",
   "language": "python",
   "name": "python3"
  },
  "language_info": {
   "codemirror_mode": {
    "name": "ipython",
    "version": 3
   },
   "file_extension": ".py",
   "mimetype": "text/x-python",
   "name": "python",
   "nbconvert_exporter": "python",
   "pygments_lexer": "ipython3",
   "version": "3.11.5"
  }
 },
 "nbformat": 4,
 "nbformat_minor": 2
}
