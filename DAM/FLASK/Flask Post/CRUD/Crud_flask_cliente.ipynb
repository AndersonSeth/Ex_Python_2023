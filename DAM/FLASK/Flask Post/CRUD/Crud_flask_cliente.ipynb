{
 "cells": [
  {
   "cell_type": "markdown",
   "metadata": {},
   "source": [
    "Cadastrando dados Cliente\n"
   ]
  },
  {
   "cell_type": "code",
   "execution_count": 34,
   "metadata": {},
   "outputs": [
    {
     "name": "stdout",
     "output_type": "stream",
     "text": [
      "------------------------------------------\n",
      "\n",
      "Tentando a rota /pessoa com POST\n",
      "\n",
      "{\"2\":{\"cabelo\":\"Verde\",\"nome\":\"Paulo\",\"sexo\":\"M\"},\"3\":{\"cabelo\":\"Loiro\",\"nome\":\"Paula\",\"sexo\":\"F\"}}\n",
      "\n"
     ]
    }
   ],
   "source": [
    "import requests\n",
    "\n",
    "def entradaDados():\n",
    "    nome = input(\"Digite o nome: \")\n",
    "    sexo = input(\"Digite o sexo: \")\n",
    "    cabelo = input(\"Digite a cor do cabelo: \")\n",
    "    dados = {\"nome\": nome, \"sexo\": sexo, \"cabelo\": cabelo}\n",
    "    return dados\n",
    "\n",
    "\n",
    "def testePost():\n",
    "\tdados = entradaDados()\n",
    "\tx = requests.post(\"http://localhost:5002/pessoa\", json = dados)\n",
    "\tif x.status_code != 200:\n",
    "\t\tprint(f\"[{x.status_code}] {x.text}\")\n",
    "\telse:\n",
    "\t\tprint(x.text) \n",
    "\n",
    "print('------------------------------------------\\n')\t\t\n",
    "print('Tentando a rota /pessoa com POST\\n')\n",
    "testePost()\n"
   ]
  },
  {
   "cell_type": "markdown",
   "metadata": {},
   "source": [
    "Alterando dados Cliente"
   ]
  },
  {
   "cell_type": "code",
   "execution_count": null,
   "metadata": {},
   "outputs": [],
   "source": [
    "def testePut():\n",
    "\tid_pessoa = int(input('Digite o id da pessoa que deseja alterar: '))\n",
    "\tdados = entradaDados()\n",
    "\tx = requests.put(\"http://localhost:5002/pessoa/\"+str(id_pessoa), json = dados)\n",
    "\tif x.status_code != 200:\n",
    "\t\tprint(f\"[{x.status_code}] {x.text}\")\n",
    "\telse:\n",
    "\t\tprint(x.text) \n",
    "print('------------------------------------------\\n')\t\n",
    "print('Tentando a rota /pessoa com PUT \\n')\t\n",
    "testePut()\t"
   ]
  },
  {
   "cell_type": "markdown",
   "metadata": {},
   "source": [
    "consultando pessoa por id\n"
   ]
  },
  {
   "cell_type": "code",
   "execution_count": 30,
   "metadata": {},
   "outputs": [
    {
     "name": "stdout",
     "output_type": "stream",
     "text": [
      "------------------------------------------\n",
      "\n",
      "Tentando a rota /pessoa com GET e pessoa específica\n",
      "\n",
      "{\"cabelo\":\"Verde\",\"nome\":\"Paulo\",\"sexo\":\"M\"}\n",
      "\n"
     ]
    }
   ],
   "source": [
    "def testeGetId():\n",
    "\tid_pessoa = int(input('Digite o id da pessoa que deseja buscar: '))\n",
    "\tx = requests.get(\"http://localhost:5002/pessoa/\"+str(id_pessoa))\n",
    "\tif x.status_code != 200:\n",
    "\t\tprint(f\"[{x.status_code}] {x.text}\")\n",
    "\telse:\n",
    "\t\tprint(x.text) \n",
    "print('------------------------------------------\\n')\t\n",
    "print('Tentando a rota /pessoa com GET e pessoa específica\\n')\t\n",
    "testeGetId()"
   ]
  },
  {
   "cell_type": "markdown",
   "metadata": {},
   "source": [
    "Deletando pessoa"
   ]
  },
  {
   "cell_type": "code",
   "execution_count": 33,
   "metadata": {},
   "outputs": [
    {
     "name": "stdout",
     "output_type": "stream",
     "text": [
      "------------------------------------------\n",
      "\n",
      "Tentando a rota /pessoa com DELETE\n",
      "\n",
      "{\"2\":{\"cabelo\":\"Verde\",\"nome\":\"Paulo\",\"sexo\":\"M\"}}\n",
      "\n"
     ]
    }
   ],
   "source": [
    "def testeDelete():\n",
    "\tid_pessoa = int(input('Digite o id da pessoa que deseja excluir: '))\n",
    "\tx = requests.delete(\"http://localhost:5002/pessoa/\"+str(id_pessoa))\n",
    "\tif x.status_code != 200:\n",
    "\t\tprint(f\"[{x.status_code}] {x.text}\")\n",
    "\telse:\n",
    "\t\tprint(x.text) \t\n",
    "print('------------------------------------------\\n')\t\n",
    "print('Tentando a rota /pessoa com DELETE\\n')\t\n",
    "testeDelete()"
   ]
  }
 ],
 "metadata": {
  "kernelspec": {
   "display_name": "Python 3",
   "language": "python",
   "name": "python3"
  },
  "language_info": {
   "codemirror_mode": {
    "name": "ipython",
    "version": 3
   },
   "file_extension": ".py",
   "mimetype": "text/x-python",
   "name": "python",
   "nbconvert_exporter": "python",
   "pygments_lexer": "ipython3",
   "version": "3.11.5"
  }
 },
 "nbformat": 4,
 "nbformat_minor": 2
}
